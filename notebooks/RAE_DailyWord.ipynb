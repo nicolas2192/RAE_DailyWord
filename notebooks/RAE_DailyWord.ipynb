{
 "cells": [
  {
   "cell_type": "code",
   "execution_count": 1,
   "metadata": {},
   "outputs": [],
   "source": [
    "import requests\n",
    "import bs4 as bs\n",
    "import re\n",
    "import datetime\n",
    "import pandas as pd"
   ]
  },
  {
   "cell_type": "code",
   "execution_count": 4,
   "metadata": {},
   "outputs": [],
   "source": [
    "rae_url = \"https://dle.rae.es/\"\n",
    "r = requests.get(rae_url)\n",
    "\n",
    "# Parsing web page looking for featured word.\n",
    "soup = bs.BeautifulSoup(r.text, \"lxml\")\n",
    "raw = soup.find(\"p\", {\"class\": \"words\"})\n",
    "\n",
    "# Cleaning word, removing extra characters\n",
    "clean_word = re.findall(r'data-eti=\\\"([a-z]+)\\\"', str(raw))[0]\n",
    "# clean_word = re.search(r\"[a-z]+\", clean_word.group())\n",
    "\n",
    "# if no word was found, exit code\n",
    "if clean_word == None:\n",
    "    print(\"Word error\")\n"
   ]
  },
  {
   "cell_type": "code",
   "execution_count": 5,
   "metadata": {},
   "outputs": [
    {
     "data": {
      "text/plain": [
       "'<p class=\"words\" id=\"wotd\"><a data-acc=\"WOTD\" data-cat=\"WOTD\" data-eti=\"carpa\" href=\"/carpa?m=wotd2\">carpa<sup>3</sup></a></p>'"
      ]
     },
     "execution_count": 5,
     "metadata": {},
     "output_type": "execute_result"
    }
   ],
   "source": [
    "str(raw)"
   ]
  },
  {
   "cell_type": "code",
   "execution_count": 6,
   "metadata": {},
   "outputs": [
    {
     "data": {
      "text/plain": [
       "'carpa'"
      ]
     },
     "execution_count": 6,
     "metadata": {},
     "output_type": "execute_result"
    }
   ],
   "source": [
    "clean_word"
   ]
  },
  {
   "cell_type": "code",
   "execution_count": 49,
   "metadata": {},
   "outputs": [],
   "source": [
    "clean_word = \"carpa\""
   ]
  },
  {
   "cell_type": "code",
   "execution_count": 50,
   "metadata": {},
   "outputs": [
    {
     "data": {
      "text/plain": [
       "'carpa1\\nDel lat. tardío carpa, y este del gót. *karpa.\\n1. f. Pez teleósteo fisóstomo, de agua dulce, generalmente verdoso por encima y amarillo por debajo, escamas grandes y una sola aleta dorsal, de boca pequeña sin dientes y con dos pequeñas barbas a los lados de la boca, y algunas de cuyas especies se crían como ornamentales.'"
      ]
     },
     "execution_count": 50,
     "metadata": {},
     "output_type": "execute_result"
    }
   ],
   "source": [
    "# improve meaning\n",
    "r2 = requests.get(f\"https://dle.rae.es/{clean_word}\")\n",
    "# r2 = requests.get(f\"https://dle.rae.es/camión\")\n",
    "soup = bs.BeautifulSoup(r2.text, \"lxml\")\n",
    "raw_results = soup.find(\"div\", {\"id\": \"resultados\"})\n",
    "lst_results = raw_results.text.split(\"\\n\")\n",
    "start = False\n",
    "meaning = []\n",
    "for i in lst_results:\n",
    "    if len(i) > 1:\n",
    "        start = True\n",
    "    if start:\n",
    "        if len(i) > 1:\n",
    "            meaning.append(i)\n",
    "        else:\n",
    "            break\n",
    "            \n",
    "meaning = \"\\n\".join(meaning)\n",
    "meaning\n",
    "\n"
   ]
  },
  {
   "cell_type": "code",
   "execution_count": 51,
   "metadata": {},
   "outputs": [
    {
     "data": {
      "text/plain": [
       "['',\n",
       " '',\n",
       " 'carpa1',\n",
       " 'Del lat. tardío carpa, y este del gót. *karpa.',\n",
       " '1. f. Pez teleósteo fisóstomo, de agua dulce, generalmente verdoso por encima y amarillo por debajo, escamas grandes y una sola aleta dorsal, de boca pequeña sin dientes y con dos pequeñas barbas a los lados de la boca, y algunas de cuyas especies se crían como ornamentales.',\n",
       " '',\n",
       " '',\n",
       " 'carpa2',\n",
       " 'Cf. grapa2 y fr. grappe.',\n",
       " '1. f. Gajo de uvas.',\n",
       " '',\n",
       " '',\n",
       " 'carpa3',\n",
       " 'Del quechua karpa.',\n",
       " '1. f. Gran toldo que cubre un circo o cualquier otro recinto amplio.',\n",
       " '2. f. Am. tienda de campaña.',\n",
       " '3. f. Arg., Col., Méx., Pan., Par., Perú, Ur. y Ven. Tienda de playa.',\n",
       " '4. f. Bol., Hond., Méx., Nic. y Ur. Tienda montada durante algunas fiestas populares, donde se venden comestibles y bebidas.',\n",
       " '',\n",
       " 'Otra entrada que contiene la forma «carpa»:carpirReal Academia Española © Todos los derechos reservados',\n",
       " '',\n",
       " '',\n",
       " '',\n",
       " '',\n",
       " '',\n",
       " '',\n",
       " '']"
      ]
     },
     "execution_count": 51,
     "metadata": {},
     "output_type": "execute_result"
    }
   ],
   "source": [
    "articles = soup.find(\"div\", {\"id\": \"resultados\"})\n",
    "lst_results = articles.text.split(\"\\n\")\n",
    "lst_results"
   ]
  },
  {
   "cell_type": "code",
   "execution_count": 56,
   "metadata": {},
   "outputs": [
    {
     "name": "stdout",
     "output_type": "stream",
     "text": [
      "['4. f. Bol., Hond., Méx., Nic. y Ur. Tienda montada durante algunas fiestas populares, donde se venden comestibles y bebidas.', '3. f. Arg., Col., Méx., Pan., Par., Perú, Ur. y Ven. Tienda de playa.', '2. f. Am. tienda de campaña.', '1. f. Gran toldo que cubre un circo o cualquier otro recinto amplio.', 'Del quechua karpa.', '\\ncarpa3', '1. f. Gajo de uvas.', 'Cf. grapa2 y fr. grappe.', '\\ncarpa2', '1. f. Pez teleósteo fisóstomo, de agua dulce, generalmente verdoso por encima y amarillo por debajo, escamas grandes y una sola aleta dorsal, de boca pequeña sin dientes y con dos pequeñas barbas a los lados de la boca, y algunas de cuyas especies se crían como ornamentales.', 'Del lat. tardío carpa, y este del gót. *karpa.', '\\ncarpa1']\n",
      "\n",
      "carpa1\n",
      "Del lat. tardío carpa, y este del gót. *karpa.\n",
      "1. f. Pez teleósteo fisóstomo, de agua dulce, generalmente verdoso por encima y amarillo por debajo, escamas grandes y una sola aleta dorsal, de boca pequeña sin dientes y con dos pequeñas barbas a los lados de la boca, y algunas de cuyas especies se crían como ornamentales.\n",
      "\n",
      "carpa2\n",
      "Cf. grapa2 y fr. grappe.\n",
      "1. f. Gajo de uvas.\n",
      "\n",
      "carpa3\n",
      "Del quechua karpa.\n",
      "1. f. Gran toldo que cubre un circo o cualquier otro recinto amplio.\n",
      "2. f. Am. tienda de campaña.\n",
      "3. f. Arg., Col., Méx., Pan., Par., Perú, Ur. y Ven. Tienda de playa.\n",
      "4. f. Bol., Hond., Méx., Nic. y Ur. Tienda montada durante algunas fiestas populares, donde se venden comestibles y bebidas.\n"
     ]
    }
   ],
   "source": [
    "start = False\n",
    "result = []\n",
    "for i in lst_results[::-1]:\n",
    "    if re.match(r\"\\d\\d*\\.\", i):\n",
    "        start = True\n",
    "        \n",
    "    if start and i.startswith(clean_word):\n",
    "        result.append(\"\\n\" + i)    \n",
    "    elif start and len(i) > 1:\n",
    "        result.append(i)\n",
    "\n",
    "\n",
    "print(result)\n",
    "resultf = \"\\n\".join(result[::-1])\n",
    "print(resultf)"
   ]
  },
  {
   "cell_type": "code",
   "execution_count": null,
   "metadata": {},
   "outputs": [],
   "source": []
  },
  {
   "cell_type": "code",
   "execution_count": null,
   "metadata": {},
   "outputs": [],
   "source": []
  },
  {
   "cell_type": "code",
   "execution_count": null,
   "metadata": {},
   "outputs": [],
   "source": []
  },
  {
   "cell_type": "code",
   "execution_count": null,
   "metadata": {},
   "outputs": [],
   "source": []
  },
  {
   "cell_type": "code",
   "execution_count": null,
   "metadata": {},
   "outputs": [],
   "source": []
  },
  {
   "cell_type": "code",
   "execution_count": 4,
   "metadata": {},
   "outputs": [
    {
     "name": "stdout",
     "output_type": "stream",
     "text": [
      "vinatero\n"
     ]
    }
   ],
   "source": [
    "# add - check status code \n",
    "r = requests.get(\"https://dle.rae.es/\")\n",
    "soup = bs.BeautifulSoup(r.text, \"lxml\")\n",
    "raw = soup.find(\"p\", {\"class\": \"words\"})\n",
    "clear_word = raw.text.split(\",\")[0]\n",
    "print(clear_word)"
   ]
  },
  {
   "cell_type": "code",
   "execution_count": 5,
   "metadata": {},
   "outputs": [
    {
     "data": {
      "text/plain": [
       "\"vinatero, ra\\nDel arag. vinatero, y este der. del lat. vinum 'vino'.\\n1. adj. Perteneciente o relativo al vino, especialmente a su producción y comercio. Industria vinatera. Comarcas vinateras.\\n2. adj. Dicho de una persona: Que se dedica a producir vino o a comerciar con él. U. m. c. s.\\ncalabaza vinatera\""
      ]
     },
     "execution_count": 5,
     "metadata": {},
     "output_type": "execute_result"
    }
   ],
   "source": [
    "r2 = requests.get(f\"https://dle.rae.es/{clear_word}\")\n",
    "# r2 = requests.get(f\"https://dle.rae.es/camión\")\n",
    "soup = bs.BeautifulSoup(r2.text, \"lxml\")\n",
    "raw_results = soup.find(\"div\", {\"id\": \"resultados\"})\n",
    "lst_results = raw_results.text.split(\"\\n\")\n",
    "start = False\n",
    "meaning = []\n",
    "for i in lst_results:\n",
    "    if len(i) > 1:\n",
    "        start = True\n",
    "    if start:\n",
    "        if len(i) > 1:\n",
    "            meaning.append(i)\n",
    "        else:\n",
    "            break\n",
    "            \n",
    "meaning = \"\\n\".join(meaning)\n",
    "meaning"
   ]
  },
  {
   "cell_type": "code",
   "execution_count": 6,
   "metadata": {
    "scrolled": true
   },
   "outputs": [
    {
     "data": {
      "text/plain": [
       "'2020-01-19'"
      ]
     },
     "execution_count": 6,
     "metadata": {},
     "output_type": "execute_result"
    }
   ],
   "source": [
    "today = datetime.date.today().strftime('%Y-%m-%d')\n",
    "today"
   ]
  },
  {
   "cell_type": "code",
   "execution_count": 7,
   "metadata": {},
   "outputs": [
    {
     "data": {
      "text/html": [
       "<div>\n",
       "<style scoped>\n",
       "    .dataframe tbody tr th:only-of-type {\n",
       "        vertical-align: middle;\n",
       "    }\n",
       "\n",
       "    .dataframe tbody tr th {\n",
       "        vertical-align: top;\n",
       "    }\n",
       "\n",
       "    .dataframe thead th {\n",
       "        text-align: right;\n",
       "    }\n",
       "</style>\n",
       "<table border=\"1\" class=\"dataframe\">\n",
       "  <thead>\n",
       "    <tr style=\"text-align: right;\">\n",
       "      <th></th>\n",
       "      <th>Date</th>\n",
       "      <th>Word</th>\n",
       "      <th>Meaning</th>\n",
       "    </tr>\n",
       "  </thead>\n",
       "  <tbody>\n",
       "    <tr>\n",
       "      <th>0</th>\n",
       "      <td>2020-01-19</td>\n",
       "      <td>vinatero</td>\n",
       "      <td>vinatero, ra\\nDel arag. vinatero, y este der. ...</td>\n",
       "    </tr>\n",
       "  </tbody>\n",
       "</table>\n",
       "</div>"
      ],
      "text/plain": [
       "         Date      Word                                            Meaning\n",
       "0  2020-01-19  vinatero  vinatero, ra\\nDel arag. vinatero, y este der. ..."
      ]
     },
     "execution_count": 7,
     "metadata": {},
     "output_type": "execute_result"
    }
   ],
   "source": [
    "to_add = pd.DataFrame(data=[[today, clear_word, meaning]], columns=[\"Date\", \"Word\", \"Meaning\"])\n",
    "to_add"
   ]
  },
  {
   "cell_type": "code",
   "execution_count": 14,
   "metadata": {},
   "outputs": [
    {
     "data": {
      "text/html": [
       "<div>\n",
       "<style scoped>\n",
       "    .dataframe tbody tr th:only-of-type {\n",
       "        vertical-align: middle;\n",
       "    }\n",
       "\n",
       "    .dataframe tbody tr th {\n",
       "        vertical-align: top;\n",
       "    }\n",
       "\n",
       "    .dataframe thead th {\n",
       "        text-align: right;\n",
       "    }\n",
       "</style>\n",
       "<table border=\"1\" class=\"dataframe\">\n",
       "  <thead>\n",
       "    <tr style=\"text-align: right;\">\n",
       "      <th></th>\n",
       "      <th>Date</th>\n",
       "      <th>Word</th>\n",
       "      <th>Meaning</th>\n",
       "    </tr>\n",
       "  </thead>\n",
       "  <tbody>\n",
       "    <tr>\n",
       "      <th>0</th>\n",
       "      <td>2020-01-19</td>\n",
       "      <td>vinatero</td>\n",
       "      <td>vinatero, ra\\nDel arag. vinatero, y este der. ...</td>\n",
       "    </tr>\n",
       "    <tr>\n",
       "      <th>1</th>\n",
       "      <td>2020-01-19</td>\n",
       "      <td>camión</td>\n",
       "      <td>camión\\nDel fr. camion.\\n1. m. Vehículo de cua...</td>\n",
       "    </tr>\n",
       "    <tr>\n",
       "      <th>2</th>\n",
       "      <td>2020-01-19</td>\n",
       "      <td>vinatero</td>\n",
       "      <td>vinatero, ra\\nDel arag. vinatero, y este der. ...</td>\n",
       "    </tr>\n",
       "  </tbody>\n",
       "</table>\n",
       "</div>"
      ],
      "text/plain": [
       "         Date      Word                                            Meaning\n",
       "0  2020-01-19  vinatero  vinatero, ra\\nDel arag. vinatero, y este der. ...\n",
       "1  2020-01-19    camión  camión\\nDel fr. camion.\\n1. m. Vehículo de cua...\n",
       "2  2020-01-19  vinatero  vinatero, ra\\nDel arag. vinatero, y este der. ..."
      ]
     },
     "execution_count": 14,
     "metadata": {},
     "output_type": "execute_result"
    }
   ],
   "source": [
    "words = pd.read_csv(\"../data/words.csv\")\n",
    "words.columns.tolist()\n",
    "words"
   ]
  },
  {
   "cell_type": "code",
   "execution_count": 11,
   "metadata": {},
   "outputs": [
    {
     "data": {
      "text/html": [
       "<div>\n",
       "<style scoped>\n",
       "    .dataframe tbody tr th:only-of-type {\n",
       "        vertical-align: middle;\n",
       "    }\n",
       "\n",
       "    .dataframe tbody tr th {\n",
       "        vertical-align: top;\n",
       "    }\n",
       "\n",
       "    .dataframe thead th {\n",
       "        text-align: right;\n",
       "    }\n",
       "</style>\n",
       "<table border=\"1\" class=\"dataframe\">\n",
       "  <thead>\n",
       "    <tr style=\"text-align: right;\">\n",
       "      <th></th>\n",
       "      <th>Date</th>\n",
       "      <th>Word</th>\n",
       "      <th>Meaning</th>\n",
       "    </tr>\n",
       "  </thead>\n",
       "  <tbody>\n",
       "    <tr>\n",
       "      <th>0</th>\n",
       "      <td>2020-01-15</td>\n",
       "      <td>topocho</td>\n",
       "      <td>1. adj. Ven. Dicho de una persona o de un anim...</td>\n",
       "    </tr>\n",
       "    <tr>\n",
       "      <th>1</th>\n",
       "      <td>2020-01-19</td>\n",
       "      <td>vinatero</td>\n",
       "      <td>vinatero, ra\\nDel arag. vinatero, y este der. ...</td>\n",
       "    </tr>\n",
       "  </tbody>\n",
       "</table>\n",
       "</div>"
      ],
      "text/plain": [
       "         Date      Word                                            Meaning\n",
       "0  2020-01-15   topocho  1. adj. Ven. Dicho de una persona o de un anim...\n",
       "1  2020-01-19  vinatero  vinatero, ra\\nDel arag. vinatero, y este der. ..."
      ]
     },
     "execution_count": 11,
     "metadata": {},
     "output_type": "execute_result"
    }
   ],
   "source": [
    "if words.iloc[len(words) - 1,0] != today:\n",
    "    words = words.append(to_add, ignore_index=True)\n",
    "words"
   ]
  },
  {
   "cell_type": "code",
   "execution_count": 32,
   "metadata": {},
   "outputs": [
    {
     "data": {
      "text/plain": [
       "'2020'"
      ]
     },
     "execution_count": 32,
     "metadata": {},
     "output_type": "execute_result"
    }
   ],
   "source": [
    "today[:4]"
   ]
  },
  {
   "cell_type": "code",
   "execution_count": null,
   "metadata": {},
   "outputs": [],
   "source": [
    "words.to_csv(\"../data/words.csv\", index=False)"
   ]
  }
 ],
 "metadata": {
  "kernelspec": {
   "display_name": "Python [conda env:labs_env]",
   "language": "python",
   "name": "conda-env-labs_env-py"
  },
  "language_info": {
   "codemirror_mode": {
    "name": "ipython",
    "version": 3
   },
   "file_extension": ".py",
   "mimetype": "text/x-python",
   "name": "python",
   "nbconvert_exporter": "python",
   "pygments_lexer": "ipython3",
   "version": "3.7.5"
  }
 },
 "nbformat": 4,
 "nbformat_minor": 2
}
