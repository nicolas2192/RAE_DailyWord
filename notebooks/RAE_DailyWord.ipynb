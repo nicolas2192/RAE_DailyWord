{
 "cells": [
  {
   "cell_type": "code",
   "execution_count": 3,
   "metadata": {},
   "outputs": [],
   "source": [
    "import requests\n",
    "import bs4 as bs\n",
    "import re\n",
    "import datetime\n",
    "import pandas as pd"
   ]
  },
  {
   "cell_type": "code",
   "execution_count": 4,
   "metadata": {},
   "outputs": [
    {
     "name": "stdout",
     "output_type": "stream",
     "text": [
      "vinatero\n"
     ]
    }
   ],
   "source": [
    "# add - check status code \n",
    "r = requests.get(\"https://dle.rae.es/\")\n",
    "soup = bs.BeautifulSoup(r.text, \"lxml\")\n",
    "raw = soup.find(\"p\", {\"class\": \"words\"})\n",
    "clear_word = raw.text.split(\",\")[0]\n",
    "print(clear_word)"
   ]
  },
  {
   "cell_type": "code",
   "execution_count": 5,
   "metadata": {},
   "outputs": [
    {
     "data": {
      "text/plain": [
       "\"vinatero, ra\\nDel arag. vinatero, y este der. del lat. vinum 'vino'.\\n1. adj. Perteneciente o relativo al vino, especialmente a su producción y comercio. Industria vinatera. Comarcas vinateras.\\n2. adj. Dicho de una persona: Que se dedica a producir vino o a comerciar con él. U. m. c. s.\\ncalabaza vinatera\""
      ]
     },
     "execution_count": 5,
     "metadata": {},
     "output_type": "execute_result"
    }
   ],
   "source": [
    "r2 = requests.get(f\"https://dle.rae.es/{clear_word}\")\n",
    "# r2 = requests.get(f\"https://dle.rae.es/camión\")\n",
    "soup = bs.BeautifulSoup(r2.text, \"lxml\")\n",
    "raw_results = soup.find(\"div\", {\"id\": \"resultados\"})\n",
    "lst_results = raw_results.text.split(\"\\n\")\n",
    "start = False\n",
    "meaning = []\n",
    "for i in lst_results:\n",
    "    if len(i) > 1:\n",
    "        start = True\n",
    "    if start:\n",
    "        if len(i) > 1:\n",
    "            meaning.append(i)\n",
    "        else:\n",
    "            break\n",
    "            \n",
    "meaning = \"\\n\".join(meaning)\n",
    "meaning"
   ]
  },
  {
   "cell_type": "code",
   "execution_count": 6,
   "metadata": {
    "scrolled": true
   },
   "outputs": [
    {
     "data": {
      "text/plain": [
       "'2020-01-19'"
      ]
     },
     "execution_count": 6,
     "metadata": {},
     "output_type": "execute_result"
    }
   ],
   "source": [
    "today = datetime.date.today().strftime('%Y-%m-%d')\n",
    "today"
   ]
  },
  {
   "cell_type": "code",
   "execution_count": 7,
   "metadata": {},
   "outputs": [
    {
     "data": {
      "text/html": [
       "<div>\n",
       "<style scoped>\n",
       "    .dataframe tbody tr th:only-of-type {\n",
       "        vertical-align: middle;\n",
       "    }\n",
       "\n",
       "    .dataframe tbody tr th {\n",
       "        vertical-align: top;\n",
       "    }\n",
       "\n",
       "    .dataframe thead th {\n",
       "        text-align: right;\n",
       "    }\n",
       "</style>\n",
       "<table border=\"1\" class=\"dataframe\">\n",
       "  <thead>\n",
       "    <tr style=\"text-align: right;\">\n",
       "      <th></th>\n",
       "      <th>Date</th>\n",
       "      <th>Word</th>\n",
       "      <th>Meaning</th>\n",
       "    </tr>\n",
       "  </thead>\n",
       "  <tbody>\n",
       "    <tr>\n",
       "      <th>0</th>\n",
       "      <td>2020-01-19</td>\n",
       "      <td>vinatero</td>\n",
       "      <td>vinatero, ra\\nDel arag. vinatero, y este der. ...</td>\n",
       "    </tr>\n",
       "  </tbody>\n",
       "</table>\n",
       "</div>"
      ],
      "text/plain": [
       "         Date      Word                                            Meaning\n",
       "0  2020-01-19  vinatero  vinatero, ra\\nDel arag. vinatero, y este der. ..."
      ]
     },
     "execution_count": 7,
     "metadata": {},
     "output_type": "execute_result"
    }
   ],
   "source": [
    "to_add = pd.DataFrame(data=[[today, clear_word, meaning]], columns=[\"Date\", \"Word\", \"Meaning\"])\n",
    "to_add"
   ]
  },
  {
   "cell_type": "code",
   "execution_count": 14,
   "metadata": {},
   "outputs": [
    {
     "data": {
      "text/html": [
       "<div>\n",
       "<style scoped>\n",
       "    .dataframe tbody tr th:only-of-type {\n",
       "        vertical-align: middle;\n",
       "    }\n",
       "\n",
       "    .dataframe tbody tr th {\n",
       "        vertical-align: top;\n",
       "    }\n",
       "\n",
       "    .dataframe thead th {\n",
       "        text-align: right;\n",
       "    }\n",
       "</style>\n",
       "<table border=\"1\" class=\"dataframe\">\n",
       "  <thead>\n",
       "    <tr style=\"text-align: right;\">\n",
       "      <th></th>\n",
       "      <th>Date</th>\n",
       "      <th>Word</th>\n",
       "      <th>Meaning</th>\n",
       "    </tr>\n",
       "  </thead>\n",
       "  <tbody>\n",
       "    <tr>\n",
       "      <th>0</th>\n",
       "      <td>2020-01-19</td>\n",
       "      <td>vinatero</td>\n",
       "      <td>vinatero, ra\\nDel arag. vinatero, y este der. ...</td>\n",
       "    </tr>\n",
       "    <tr>\n",
       "      <th>1</th>\n",
       "      <td>2020-01-19</td>\n",
       "      <td>camión</td>\n",
       "      <td>camión\\nDel fr. camion.\\n1. m. Vehículo de cua...</td>\n",
       "    </tr>\n",
       "    <tr>\n",
       "      <th>2</th>\n",
       "      <td>2020-01-19</td>\n",
       "      <td>vinatero</td>\n",
       "      <td>vinatero, ra\\nDel arag. vinatero, y este der. ...</td>\n",
       "    </tr>\n",
       "  </tbody>\n",
       "</table>\n",
       "</div>"
      ],
      "text/plain": [
       "         Date      Word                                            Meaning\n",
       "0  2020-01-19  vinatero  vinatero, ra\\nDel arag. vinatero, y este der. ...\n",
       "1  2020-01-19    camión  camión\\nDel fr. camion.\\n1. m. Vehículo de cua...\n",
       "2  2020-01-19  vinatero  vinatero, ra\\nDel arag. vinatero, y este der. ..."
      ]
     },
     "execution_count": 14,
     "metadata": {},
     "output_type": "execute_result"
    }
   ],
   "source": [
    "words = pd.read_csv(\"../data/words.csv\")\n",
    "words.columns.tolist()\n",
    "words"
   ]
  },
  {
   "cell_type": "code",
   "execution_count": 11,
   "metadata": {},
   "outputs": [
    {
     "data": {
      "text/html": [
       "<div>\n",
       "<style scoped>\n",
       "    .dataframe tbody tr th:only-of-type {\n",
       "        vertical-align: middle;\n",
       "    }\n",
       "\n",
       "    .dataframe tbody tr th {\n",
       "        vertical-align: top;\n",
       "    }\n",
       "\n",
       "    .dataframe thead th {\n",
       "        text-align: right;\n",
       "    }\n",
       "</style>\n",
       "<table border=\"1\" class=\"dataframe\">\n",
       "  <thead>\n",
       "    <tr style=\"text-align: right;\">\n",
       "      <th></th>\n",
       "      <th>Date</th>\n",
       "      <th>Word</th>\n",
       "      <th>Meaning</th>\n",
       "    </tr>\n",
       "  </thead>\n",
       "  <tbody>\n",
       "    <tr>\n",
       "      <th>0</th>\n",
       "      <td>2020-01-15</td>\n",
       "      <td>topocho</td>\n",
       "      <td>1. adj. Ven. Dicho de una persona o de un anim...</td>\n",
       "    </tr>\n",
       "    <tr>\n",
       "      <th>1</th>\n",
       "      <td>2020-01-19</td>\n",
       "      <td>vinatero</td>\n",
       "      <td>vinatero, ra\\nDel arag. vinatero, y este der. ...</td>\n",
       "    </tr>\n",
       "  </tbody>\n",
       "</table>\n",
       "</div>"
      ],
      "text/plain": [
       "         Date      Word                                            Meaning\n",
       "0  2020-01-15   topocho  1. adj. Ven. Dicho de una persona o de un anim...\n",
       "1  2020-01-19  vinatero  vinatero, ra\\nDel arag. vinatero, y este der. ..."
      ]
     },
     "execution_count": 11,
     "metadata": {},
     "output_type": "execute_result"
    }
   ],
   "source": [
    "if words.iloc[len(words) - 1,0] != today:\n",
    "    words = words.append(to_add, ignore_index=True)\n",
    "words"
   ]
  },
  {
   "cell_type": "code",
   "execution_count": 32,
   "metadata": {},
   "outputs": [
    {
     "data": {
      "text/plain": [
       "'2020'"
      ]
     },
     "execution_count": 32,
     "metadata": {},
     "output_type": "execute_result"
    }
   ],
   "source": [
    "today[:4]"
   ]
  },
  {
   "cell_type": "code",
   "execution_count": null,
   "metadata": {},
   "outputs": [],
   "source": [
    "words.to_csv(\"../data/words.csv\", index=False)"
   ]
  }
 ],
 "metadata": {
  "kernelspec": {
   "display_name": "Python [conda env:labs_env]",
   "language": "python",
   "name": "conda-env-labs_env-py"
  },
  "language_info": {
   "codemirror_mode": {
    "name": "ipython",
    "version": 3
   },
   "file_extension": ".py",
   "mimetype": "text/x-python",
   "name": "python",
   "nbconvert_exporter": "python",
   "pygments_lexer": "ipython3",
   "version": "3.7.5"
  }
 },
 "nbformat": 4,
 "nbformat_minor": 2
}
