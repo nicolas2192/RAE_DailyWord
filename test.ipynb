{
 "cells": [
  {
   "cell_type": "code",
   "execution_count": 2,
   "id": "e0070829-59d4-4d35-a570-720b90bc2a4d",
   "metadata": {},
   "outputs": [],
   "source": [
    "import requests"
   ]
  },
  {
   "cell_type": "code",
   "execution_count": 3,
   "id": "b5768016-b687-4037-a0c2-9338ba282e86",
   "metadata": {},
   "outputs": [],
   "source": [
    "url = 'https://dle.rae.es/'"
   ]
  },
  {
   "cell_type": "code",
   "execution_count": 14,
   "id": "dca271ce-3540-4484-9f93-d089e4a99067",
   "metadata": {},
   "outputs": [
    {
     "data": {
      "text/plain": [
       "{'User-Agent': 'Mozilla/5.0 (X11; Linux x86_64; rv:103.0) Gecko/20100101 Firefox/103.0',\n",
       " 'Cookie': '__cflb=0H28uu4LW7gyBBnNGSpBL4p6dwXx7tc964MsFqbV5oZ'}"
      ]
     },
     "execution_count": 14,
     "metadata": {},
     "output_type": "execute_result"
    }
   ],
   "source": [
    "params ={'User-Agent': 'Mozilla/5.0 (X11; Linux x86_64; rv:103.0) Gecko/20100101 Firefox/103.0',\n",
    "        'Cookie': '__cflb=0H28uu4LW7gyBBnNGSpBL4p6dwXx7tc964MsFqbV5oZ'}\n",
    "params"
   ]
  },
  {
   "cell_type": "code",
   "execution_count": 15,
   "id": "c607251d-a268-4c83-82f6-c8679a230c5b",
   "metadata": {},
   "outputs": [],
   "source": [
    "r = requests.get(url, params=params)"
   ]
  },
  {
   "cell_type": "code",
   "execution_count": 16,
   "id": "bb864f88-e0c8-4b97-99d7-bc0f5e1a6284",
   "metadata": {},
   "outputs": [
    {
     "data": {
      "text/plain": [
       "403"
      ]
     },
     "execution_count": 16,
     "metadata": {},
     "output_type": "execute_result"
    }
   ],
   "source": [
    "r.status_code"
   ]
  },
  {
   "cell_type": "code",
   "execution_count": null,
   "id": "905e87ae-528f-4133-8af9-84729912558a",
   "metadata": {},
   "outputs": [],
   "source": [
    "User-Agent: Mozilla/5.0 (X11; Linux x86_64; rv:103.0) Gecko/20100101 Firefox/103.0\n",
    "Accept: text/html,application/xhtml+xml,application/xml;q=0.9,image/avif,image/webp,*/*;q=0.8\n",
    "Accept-Language: en-US,en;q=0.5\n",
    "Accept-Encoding: gzip, deflate, br\n",
    "Alt-Used: dle.rae.es\n",
    "Connection: keep-alive\n",
    "Cookie: __cflb=0H28uu4LW7gyBBnNGSpBL4p6dwXx7tc964MsFqbV5oZ\n",
    "Upgrade-Insecure-Requests: 1\n",
    "Sec-Fetch-Dest: document\n",
    "Sec-Fetch-Mode: navigate\n",
    "Sec-Fetch-Site: none\n",
    "Sec-Fetch-User: ?1"
   ]
  },
  {
   "cell_type": "code",
   "execution_count": null,
   "id": "afe7daf1-4579-4a5a-8b51-b450f6521d3d",
   "metadata": {},
   "outputs": [],
   "source": []
  },
  {
   "cell_type": "code",
   "execution_count": null,
   "id": "07b71e28-ae97-48bd-9ade-72e6b0ebdc99",
   "metadata": {},
   "outputs": [],
   "source": []
  }
 ],
 "metadata": {
  "kernelspec": {
   "display_name": "Python [conda env:snake]",
   "language": "python",
   "name": "conda-env-snake-py"
  },
  "language_info": {
   "codemirror_mode": {
    "name": "ipython",
    "version": 3
   },
   "file_extension": ".py",
   "mimetype": "text/x-python",
   "name": "python",
   "nbconvert_exporter": "python",
   "pygments_lexer": "ipython3",
   "version": "3.9.12"
  }
 },
 "nbformat": 4,
 "nbformat_minor": 5
}
